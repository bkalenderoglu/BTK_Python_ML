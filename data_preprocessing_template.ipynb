{
 "nbformat": 4,
 "nbformat_minor": 2,
 "metadata": {
  "language_info": {
   "name": "python",
   "codemirror_mode": {
    "name": "ipython",
    "version": 3
   },
   "version": "3.6.5-final"
  },
  "orig_nbformat": 2,
  "file_extension": ".py",
  "mimetype": "text/x-python",
  "name": "python",
  "npconvert_exporter": "python",
  "pygments_lexer": "ipython3",
  "version": 3,
  "kernelspec": {
   "name": "python36564bithpvirtualenv25a72ff3b2e1437e9a9eaf89251d2225",
   "display_name": "Python 3.6.5 64-bit ('hp': virtualenv)"
  }
 },
 "cells": [
  {
   "cell_type": "code",
   "execution_count": 26,
   "metadata": {},
   "outputs": [],
   "source": [
    "import numpy as np\n",
    "import matplotlib.pyplot as plt \n",
    "import pandas as pd\n",
    "from sklearn import preprocessing\n",
    "from sklearn.preprocessing import Imputer, StandardScaler\n",
    "from sklearn.model_selection import train_test_split"
   ]
  },
  {
   "cell_type": "code",
   "execution_count": 2,
   "metadata": {},
   "outputs": [],
   "source": [
    "data = pd.read_csv(\"datasets/missing_values.csv\")"
   ]
  },
  {
   "cell_type": "markdown",
   "metadata": {},
   "source": [
    "# Missing Values"
   ]
  },
  {
   "cell_type": "code",
   "execution_count": 3,
   "metadata": {},
   "outputs": [
    {
     "name": "stdout",
     "output_type": "stream",
     "text": "country  height  weight   age gender\n0       tr     130      30  10.0      e\n1       tr     125      36  11.0      e\n2       tr     135      34  10.0      k\n3       tr     133      30   9.0      k\n4       tr     129      38  12.0      e\n5       tr     180      90  30.0      e\n6       tr     190      80  25.0      e\n7       tr     175      90  35.0      e\n8       tr     177      60  22.0      k\n9       us     185     105  33.0      e\n10      us     165      55  27.0      k\n11      us     155      50  44.0      k\n12      us     160      58   NaN      k\n13      us     162      59  41.0      k\n14      us     167      62  55.0      k\n15      fr     174      70  47.0      e\n16      fr     193      90   NaN      e\n17      fr     187      80  27.0      e\n18      fr     183      88  28.0      e\n19      fr     159      40  29.0      k\n20      fr     164      66  32.0      k\n21      fr     166      56  42.0      k\n"
    }
   ],
   "source": [
    "print(data)"
   ]
  },
  {
   "cell_type": "code",
   "execution_count": 4,
   "metadata": {},
   "outputs": [],
   "source": [
    "imputer = Imputer(missing_values=np.nan, strategy=\"mean\")"
   ]
  },
  {
   "cell_type": "code",
   "execution_count": 5,
   "metadata": {},
   "outputs": [],
   "source": [
    "#gives height, weight and age\n",
    "age = data.iloc[:,1:4].values "
   ]
  },
  {
   "cell_type": "code",
   "execution_count": 6,
   "metadata": {},
   "outputs": [
    {
     "name": "stdout",
     "output_type": "stream",
     "text": "[[130.  30.  10.]\n [125.  36.  11.]\n [135.  34.  10.]\n [133.  30.   9.]\n [129.  38.  12.]\n [180.  90.  30.]\n [190.  80.  25.]\n [175.  90.  35.]\n [177.  60.  22.]\n [185. 105.  33.]\n [165.  55.  27.]\n [155.  50.  44.]\n [160.  58.  nan]\n [162.  59.  41.]\n [167.  62.  55.]\n [174.  70.  47.]\n [193.  90.  nan]\n [187.  80.  27.]\n [183.  88.  28.]\n [159.  40.  29.]\n [164.  66.  32.]\n [166.  56.  42.]]\n"
    }
   ],
   "source": [
    "print(age)"
   ]
  },
  {
   "cell_type": "code",
   "execution_count": 7,
   "metadata": {},
   "outputs": [
    {
     "name": "stdout",
     "output_type": "stream",
     "text": "[[130.    30.    10.  ]\n [125.    36.    11.  ]\n [135.    34.    10.  ]\n [133.    30.     9.  ]\n [129.    38.    12.  ]\n [180.    90.    30.  ]\n [190.    80.    25.  ]\n [175.    90.    35.  ]\n [177.    60.    22.  ]\n [185.   105.    33.  ]\n [165.    55.    27.  ]\n [155.    50.    44.  ]\n [160.    58.    28.45]\n [162.    59.    41.  ]\n [167.    62.    55.  ]\n [174.    70.    47.  ]\n [193.    90.    28.45]\n [187.    80.    27.  ]\n [183.    88.    28.  ]\n [159.    40.    29.  ]\n [164.    66.    32.  ]\n [166.    56.    42.  ]]\n"
    }
   ],
   "source": [
    "imputer = imputer.fit(age[:,1:4])\n",
    "age[:,1:4] = imputer.transform(age[:,1:4])\n",
    "print(age)"
   ]
  },
  {
   "cell_type": "markdown",
   "metadata": {},
   "source": [
    "# Encoding"
   ]
  },
  {
   "cell_type": "code",
   "execution_count": 8,
   "metadata": {},
   "outputs": [
    {
     "name": "stdout",
     "output_type": "stream",
     "text": "[['tr']\n ['tr']\n ['tr']\n ['tr']\n ['tr']\n ['tr']\n ['tr']\n ['tr']\n ['tr']\n ['us']\n ['us']\n ['us']\n ['us']\n ['us']\n ['us']\n ['fr']\n ['fr']\n ['fr']\n ['fr']\n ['fr']\n ['fr']\n ['fr']]\n"
    }
   ],
   "source": [
    "country = data.iloc[:,0:1].values\n",
    "print(country)"
   ]
  },
  {
   "cell_type": "code",
   "execution_count": 11,
   "metadata": {},
   "outputs": [],
   "source": [
    "label_encoder = preprocessing.LabelEncoder()\n",
    "country[:,0] = label_encoder.fit_transform(data.iloc[:,0])"
   ]
  },
  {
   "cell_type": "code",
   "execution_count": 12,
   "metadata": {},
   "outputs": [
    {
     "name": "stdout",
     "output_type": "stream",
     "text": "[[1]\n [1]\n [1]\n [1]\n [1]\n [1]\n [1]\n [1]\n [1]\n [2]\n [2]\n [2]\n [2]\n [2]\n [2]\n [0]\n [0]\n [0]\n [0]\n [0]\n [0]\n [0]]\n"
    }
   ],
   "source": [
    "print(country)"
   ]
  },
  {
   "cell_type": "markdown",
   "metadata": {},
   "source": [
    "# One Hot Encoder"
   ]
  },
  {
   "cell_type": "code",
   "execution_count": 13,
   "metadata": {},
   "outputs": [
    {
     "name": "stdout",
     "output_type": "stream",
     "text": "[[0. 1. 0.]\n [0. 1. 0.]\n [0. 1. 0.]\n [0. 1. 0.]\n [0. 1. 0.]\n [0. 1. 0.]\n [0. 1. 0.]\n [0. 1. 0.]\n [0. 1. 0.]\n [0. 0. 1.]\n [0. 0. 1.]\n [0. 0. 1.]\n [0. 0. 1.]\n [0. 0. 1.]\n [0. 0. 1.]\n [1. 0. 0.]\n [1. 0. 0.]\n [1. 0. 0.]\n [1. 0. 0.]\n [1. 0. 0.]\n [1. 0. 0.]\n [1. 0. 0.]]\n"
    }
   ],
   "source": [
    "ohe = preprocessing.OneHotEncoder()\n",
    "country = ohe.fit_transform(country).toarray()\n",
    "print(country)"
   ]
  },
  {
   "cell_type": "markdown",
   "metadata": {},
   "source": [
    "# Dataframe conversion"
   ]
  },
  {
   "cell_type": "code",
   "execution_count": 14,
   "metadata": {},
   "outputs": [],
   "source": [
    "result = pd.DataFrame(data=country, index=range(22), columns=[\"fr\",\"tr\",\"us\"])"
   ]
  },
  {
   "cell_type": "code",
   "execution_count": 15,
   "metadata": {},
   "outputs": [
    {
     "name": "stdout",
     "output_type": "stream",
     "text": "fr   tr   us\n0   0.0  1.0  0.0\n1   0.0  1.0  0.0\n2   0.0  1.0  0.0\n3   0.0  1.0  0.0\n4   0.0  1.0  0.0\n5   0.0  1.0  0.0\n6   0.0  1.0  0.0\n7   0.0  1.0  0.0\n8   0.0  1.0  0.0\n9   0.0  0.0  1.0\n10  0.0  0.0  1.0\n11  0.0  0.0  1.0\n12  0.0  0.0  1.0\n13  0.0  0.0  1.0\n14  0.0  0.0  1.0\n15  1.0  0.0  0.0\n16  1.0  0.0  0.0\n17  1.0  0.0  0.0\n18  1.0  0.0  0.0\n19  1.0  0.0  0.0\n20  1.0  0.0  0.0\n21  1.0  0.0  0.0\n"
    }
   ],
   "source": [
    "print(result)"
   ]
  },
  {
   "cell_type": "code",
   "execution_count": 17,
   "metadata": {},
   "outputs": [
    {
     "name": "stdout",
     "output_type": "stream",
     "text": "height  weight    age\n0    130.0    30.0  10.00\n1    125.0    36.0  11.00\n2    135.0    34.0  10.00\n3    133.0    30.0   9.00\n4    129.0    38.0  12.00\n5    180.0    90.0  30.00\n6    190.0    80.0  25.00\n7    175.0    90.0  35.00\n8    177.0    60.0  22.00\n9    185.0   105.0  33.00\n10   165.0    55.0  27.00\n11   155.0    50.0  44.00\n12   160.0    58.0  28.45\n13   162.0    59.0  41.00\n14   167.0    62.0  55.00\n15   174.0    70.0  47.00\n16   193.0    90.0  28.45\n17   187.0    80.0  27.00\n18   183.0    88.0  28.00\n19   159.0    40.0  29.00\n20   164.0    66.0  32.00\n21   166.0    56.0  42.00\n"
    }
   ],
   "source": [
    "result2 = pd.DataFrame(data=age, index=range(22), columns=[\"height\",\"weight\",\"age\"])\n",
    "print(result2)"
   ]
  },
  {
   "cell_type": "code",
   "execution_count": 18,
   "metadata": {},
   "outputs": [
    {
     "name": "stdout",
     "output_type": "stream",
     "text": "gender\n0       e\n1       e\n2       k\n3       k\n4       e\n5       e\n6       e\n7       e\n8       k\n9       e\n10      k\n11      k\n12      k\n13      k\n14      k\n15      e\n16      e\n17      e\n18      e\n19      k\n20      k\n21      k\n"
    }
   ],
   "source": [
    "gender = data.iloc[:,-1].values\n",
    "result3 = pd.DataFrame(data=gender, index=range(22), columns=[\"gender\"])\n",
    "print(result3)"
   ]
  },
  {
   "cell_type": "markdown",
   "metadata": {},
   "source": [
    "# Concatinating data frames"
   ]
  },
  {
   "cell_type": "code",
   "execution_count": 19,
   "metadata": {},
   "outputs": [
    {
     "name": "stdout",
     "output_type": "stream",
     "text": "age   fr  height   tr   us  weight\n0     NaN  0.0     NaN  1.0  0.0     NaN\n1     NaN  0.0     NaN  1.0  0.0     NaN\n2     NaN  0.0     NaN  1.0  0.0     NaN\n3     NaN  0.0     NaN  1.0  0.0     NaN\n4     NaN  0.0     NaN  1.0  0.0     NaN\n5     NaN  0.0     NaN  1.0  0.0     NaN\n6     NaN  0.0     NaN  1.0  0.0     NaN\n7     NaN  0.0     NaN  1.0  0.0     NaN\n8     NaN  0.0     NaN  1.0  0.0     NaN\n9     NaN  0.0     NaN  0.0  1.0     NaN\n10    NaN  0.0     NaN  0.0  1.0     NaN\n11    NaN  0.0     NaN  0.0  1.0     NaN\n12    NaN  0.0     NaN  0.0  1.0     NaN\n13    NaN  0.0     NaN  0.0  1.0     NaN\n14    NaN  0.0     NaN  0.0  1.0     NaN\n15    NaN  1.0     NaN  0.0  0.0     NaN\n16    NaN  1.0     NaN  0.0  0.0     NaN\n17    NaN  1.0     NaN  0.0  0.0     NaN\n18    NaN  1.0     NaN  0.0  0.0     NaN\n19    NaN  1.0     NaN  0.0  0.0     NaN\n20    NaN  1.0     NaN  0.0  0.0     NaN\n21    NaN  1.0     NaN  0.0  0.0     NaN\n0   10.00  NaN   130.0  NaN  NaN    30.0\n1   11.00  NaN   125.0  NaN  NaN    36.0\n2   10.00  NaN   135.0  NaN  NaN    34.0\n3    9.00  NaN   133.0  NaN  NaN    30.0\n4   12.00  NaN   129.0  NaN  NaN    38.0\n5   30.00  NaN   180.0  NaN  NaN    90.0\n6   25.00  NaN   190.0  NaN  NaN    80.0\n7   35.00  NaN   175.0  NaN  NaN    90.0\n8   22.00  NaN   177.0  NaN  NaN    60.0\n9   33.00  NaN   185.0  NaN  NaN   105.0\n10  27.00  NaN   165.0  NaN  NaN    55.0\n11  44.00  NaN   155.0  NaN  NaN    50.0\n12  28.45  NaN   160.0  NaN  NaN    58.0\n13  41.00  NaN   162.0  NaN  NaN    59.0\n14  55.00  NaN   167.0  NaN  NaN    62.0\n15  47.00  NaN   174.0  NaN  NaN    70.0\n16  28.45  NaN   193.0  NaN  NaN    90.0\n17  27.00  NaN   187.0  NaN  NaN    80.0\n18  28.00  NaN   183.0  NaN  NaN    88.0\n19  29.00  NaN   159.0  NaN  NaN    40.0\n20  32.00  NaN   164.0  NaN  NaN    66.0\n21  42.00  NaN   166.0  NaN  NaN    56.0\n"
    }
   ],
   "source": [
    "s = pd.concat([result,result2])\n",
    "print(s)"
   ]
  },
  {
   "cell_type": "code",
   "execution_count": 20,
   "metadata": {},
   "outputs": [
    {
     "name": "stdout",
     "output_type": "stream",
     "text": "fr   tr   us  height  weight    age\n0   0.0  1.0  0.0   130.0    30.0  10.00\n1   0.0  1.0  0.0   125.0    36.0  11.00\n2   0.0  1.0  0.0   135.0    34.0  10.00\n3   0.0  1.0  0.0   133.0    30.0   9.00\n4   0.0  1.0  0.0   129.0    38.0  12.00\n5   0.0  1.0  0.0   180.0    90.0  30.00\n6   0.0  1.0  0.0   190.0    80.0  25.00\n7   0.0  1.0  0.0   175.0    90.0  35.00\n8   0.0  1.0  0.0   177.0    60.0  22.00\n9   0.0  0.0  1.0   185.0   105.0  33.00\n10  0.0  0.0  1.0   165.0    55.0  27.00\n11  0.0  0.0  1.0   155.0    50.0  44.00\n12  0.0  0.0  1.0   160.0    58.0  28.45\n13  0.0  0.0  1.0   162.0    59.0  41.00\n14  0.0  0.0  1.0   167.0    62.0  55.00\n15  1.0  0.0  0.0   174.0    70.0  47.00\n16  1.0  0.0  0.0   193.0    90.0  28.45\n17  1.0  0.0  0.0   187.0    80.0  27.00\n18  1.0  0.0  0.0   183.0    88.0  28.00\n19  1.0  0.0  0.0   159.0    40.0  29.00\n20  1.0  0.0  0.0   164.0    66.0  32.00\n21  1.0  0.0  0.0   166.0    56.0  42.00\n"
    }
   ],
   "source": [
    "s = pd.concat([result,result2], axis=1)\n",
    "print(s)"
   ]
  },
  {
   "cell_type": "code",
   "execution_count": 23,
   "metadata": {},
   "outputs": [
    {
     "name": "stdout",
     "output_type": "stream",
     "text": "fr   tr   us  height  weight    age gender\n0   0.0  1.0  0.0   130.0    30.0  10.00      e\n1   0.0  1.0  0.0   125.0    36.0  11.00      e\n2   0.0  1.0  0.0   135.0    34.0  10.00      k\n3   0.0  1.0  0.0   133.0    30.0   9.00      k\n4   0.0  1.0  0.0   129.0    38.0  12.00      e\n5   0.0  1.0  0.0   180.0    90.0  30.00      e\n6   0.0  1.0  0.0   190.0    80.0  25.00      e\n7   0.0  1.0  0.0   175.0    90.0  35.00      e\n8   0.0  1.0  0.0   177.0    60.0  22.00      k\n9   0.0  0.0  1.0   185.0   105.0  33.00      e\n10  0.0  0.0  1.0   165.0    55.0  27.00      k\n11  0.0  0.0  1.0   155.0    50.0  44.00      k\n12  0.0  0.0  1.0   160.0    58.0  28.45      k\n13  0.0  0.0  1.0   162.0    59.0  41.00      k\n14  0.0  0.0  1.0   167.0    62.0  55.00      k\n15  1.0  0.0  0.0   174.0    70.0  47.00      e\n16  1.0  0.0  0.0   193.0    90.0  28.45      e\n17  1.0  0.0  0.0   187.0    80.0  27.00      e\n18  1.0  0.0  0.0   183.0    88.0  28.00      e\n19  1.0  0.0  0.0   159.0    40.0  29.00      k\n20  1.0  0.0  0.0   164.0    66.0  32.00      k\n21  1.0  0.0  0.0   166.0    56.0  42.00      k\n"
    }
   ],
   "source": [
    "s2 = pd.concat([s,result3], axis=1)\n",
    "print(s2)"
   ]
  },
  {
   "cell_type": "markdown",
   "metadata": {},
   "source": [
    "# Splitting Dataset"
   ]
  },
  {
   "cell_type": "code",
   "execution_count": 25,
   "metadata": {},
   "outputs": [],
   "source": [
    "x_train, x_test, y_train, y_test = train_test_split(s,result3,test_size=0.33, random_state=0)"
   ]
  },
  {
   "cell_type": "markdown",
   "metadata": {},
   "source": [
    "# Standardizing data"
   ]
  },
  {
   "cell_type": "code",
   "execution_count": 27,
   "metadata": {},
   "outputs": [],
   "source": [
    "sc = StandardScaler()"
   ]
  },
  {
   "cell_type": "code",
   "execution_count": 29,
   "metadata": {},
   "outputs": [],
   "source": [
    "X_train = sc.fit_transform(x_train)\n",
    "X_test =sc.fit_transform(x_test)"
   ]
  }
 ]
}