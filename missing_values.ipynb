{
 "nbformat": 4,
 "nbformat_minor": 2,
 "metadata": {
  "language_info": {
   "name": "python",
   "codemirror_mode": {
    "name": "ipython",
    "version": 3
   },
   "version": "3.6.5-final"
  },
  "orig_nbformat": 2,
  "file_extension": ".py",
  "mimetype": "text/x-python",
  "name": "python",
  "npconvert_exporter": "python",
  "pygments_lexer": "ipython3",
  "version": 3,
  "kernelspec": {
   "name": "python36564bithpvirtualenv25a72ff3b2e1437e9a9eaf89251d2225",
   "display_name": "Python 3.6.5 64-bit ('hp': virtualenv)"
  }
 },
 "cells": [
  {
   "cell_type": "code",
   "execution_count": 12,
   "metadata": {},
   "outputs": [],
   "source": [
    "import numpy as np\n",
    "import matplotlib.pyplot as plt \n",
    "import pandas as pd\n",
    "from sklearn.preprocessing import Imputer"
   ]
  },
  {
   "cell_type": "code",
   "execution_count": 9,
   "metadata": {},
   "outputs": [],
   "source": [
    "data = pd.read_csv(\"datasets/missing_values.csv\")"
   ]
  },
  {
   "cell_type": "markdown",
   "metadata": {},
   "source": [
    "# Missing Values"
   ]
  },
  {
   "cell_type": "code",
   "execution_count": 10,
   "metadata": {},
   "outputs": [
    {
     "name": "stdout",
     "output_type": "stream",
     "text": "ulke  boy  kilo   yas cinsiyet\n0    tr  130    30  10.0        e\n1    tr  125    36  11.0        e\n2    tr  135    34  10.0        k\n3    tr  133    30   9.0        k\n4    tr  129    38  12.0        e\n5    tr  180    90  30.0        e\n6    tr  190    80  25.0        e\n7    tr  175    90  35.0        e\n8    tr  177    60  22.0        k\n9    us  185   105  33.0        e\n10   us  165    55  27.0        k\n11   us  155    50  44.0        k\n12   us  160    58   NaN        k\n13   us  162    59  41.0        k\n14   us  167    62  55.0        k\n15   fr  174    70  47.0        e\n16   fr  193    90   NaN        e\n17   fr  187    80  27.0        e\n18   fr  183    88  28.0        e\n19   fr  159    40  29.0        k\n20   fr  164    66  32.0        k\n21   fr  166    56  42.0        k\n"
    }
   ],
   "source": [
    "print(data)"
   ]
  },
  {
   "cell_type": "code",
   "execution_count": 13,
   "metadata": {},
   "outputs": [],
   "source": [
    "imputer = Imputer(missing_values=np.nan, strategy=\"mean\")"
   ]
  },
  {
   "cell_type": "code",
   "execution_count": 14,
   "metadata": {},
   "outputs": [],
   "source": [
    "#gives height, weight and age\n",
    "age = data.iloc[:,1:4].values "
   ]
  },
  {
   "cell_type": "code",
   "execution_count": 15,
   "metadata": {},
   "outputs": [
    {
     "name": "stdout",
     "output_type": "stream",
     "text": "[[130.  30.  10.]\n [125.  36.  11.]\n [135.  34.  10.]\n [133.  30.   9.]\n [129.  38.  12.]\n [180.  90.  30.]\n [190.  80.  25.]\n [175.  90.  35.]\n [177.  60.  22.]\n [185. 105.  33.]\n [165.  55.  27.]\n [155.  50.  44.]\n [160.  58.  nan]\n [162.  59.  41.]\n [167.  62.  55.]\n [174.  70.  47.]\n [193.  90.  nan]\n [187.  80.  27.]\n [183.  88.  28.]\n [159.  40.  29.]\n [164.  66.  32.]\n [166.  56.  42.]]\n"
    }
   ],
   "source": [
    "print(age)"
   ]
  },
  {
   "cell_type": "code",
   "execution_count": 16,
   "metadata": {},
   "outputs": [
    {
     "name": "stdout",
     "output_type": "stream",
     "text": "[[130.    30.    10.  ]\n [125.    36.    11.  ]\n [135.    34.    10.  ]\n [133.    30.     9.  ]\n [129.    38.    12.  ]\n [180.    90.    30.  ]\n [190.    80.    25.  ]\n [175.    90.    35.  ]\n [177.    60.    22.  ]\n [185.   105.    33.  ]\n [165.    55.    27.  ]\n [155.    50.    44.  ]\n [160.    58.    28.45]\n [162.    59.    41.  ]\n [167.    62.    55.  ]\n [174.    70.    47.  ]\n [193.    90.    28.45]\n [187.    80.    27.  ]\n [183.    88.    28.  ]\n [159.    40.    29.  ]\n [164.    66.    32.  ]\n [166.    56.    42.  ]]\n"
    }
   ],
   "source": [
    "imputer = imputer.fit(age[:,1:4])\n",
    "age[:,1:4] = imputer.transform(age[:,1:4])\n",
    "print(age)"
   ]
  },
  {
   "cell_type": "code",
   "execution_count": null,
   "metadata": {},
   "outputs": [],
   "source": []
  }
 ]
}